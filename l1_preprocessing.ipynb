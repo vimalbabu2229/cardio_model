{
 "cells": [
  {
   "cell_type": "markdown",
   "metadata": {},
   "source": [
    "# Preprocessing of Dataset\n",
    "## Imports and Constants\n",
    "\n"
   ]
  },
  {
   "cell_type": "code",
   "execution_count": 21,
   "metadata": {},
   "outputs": [],
   "source": [
    "import os\n",
    "import pandas as pd\n",
    "import re\n",
    "\n",
    "AUDIO_DIR = \"audio_files\"\n",
    "AUDIO_FILES = os.listdir(AUDIO_DIR)\n",
    "CSV_DF = pd.read_csv(\"Heartbeat_Cusat - Form responses 1.csv\").sort_values(by='Name').reset_index(drop=True)\n",
    "\n",
    "DIGIT_PATTERN = re.compile(r\"\\d+\")\n",
    "CHAR_PATTERN = re.compile(r\"_$|-$\")\n",
    "\n",
    "FILE_NAMES = list({CHAR_PATTERN.sub(\"\",DIGIT_PATTERN.split(file)[0]).strip() for file in os.listdir(AUDIO_DIR)})\n",
    "NAMES = [(index, row['Name']) for index,row in CSV_DF.iterrows()]\n",
    "\n",
    "\n",
    "result_df = pd.DataFrame(columns=['name', 'age', 'sex', 'chest_pain', 'bp', 'palpitations', 'other_disease', 'pulmonic', 'erbs', 'tricuspid'])\n",
    "\n"
   ]
  },
  {
   "cell_type": "code",
   "execution_count": 22,
   "metadata": {},
   "outputs": [
    {
     "data": {
      "text/plain": [
       "True"
      ]
     },
     "execution_count": 22,
     "metadata": {},
     "output_type": "execute_result"
    }
   ],
   "source": [
    "pattern = re.compile(r'(?!(no|nil))', re.IGNORECASE)\n",
    "\n",
    "bool(pattern.match('ot'))\n"
   ]
  },
  {
   "cell_type": "markdown",
   "metadata": {},
   "source": [
    "## Find File Name "
   ]
  },
  {
   "cell_type": "code",
   "execution_count": 23,
   "metadata": {},
   "outputs": [],
   "source": [
    "def find_filename(name):\n",
    "    pattern_str = \"|\".join([f\"({word})\" for word in  name.split(\" \") ]) #if len(word) > 1\n",
    "\n",
    "    name_pattern = re.compile(rf\"{pattern_str}\", re.IGNORECASE)\n",
    "    remove_pattern = re.compile(r\"-|_| \")\n",
    "\n",
    "    files = [name for name in FILE_NAMES if remove_pattern.sub(\"\",name_pattern.sub(\"\", name)) == \"\"]\n",
    "    if len(files) == 1 :\n",
    "        return files[0] \n",
    "    else:\n",
    "        with open('activity_log.txt', 'a') as  log:\n",
    "            log.write(f\"*****[ {files} ]*****\")\n",
    "        return None"
   ]
  },
  {
   "cell_type": "markdown",
   "metadata": {},
   "source": [
    "## Find Files"
   ]
  },
  {
   "cell_type": "code",
   "execution_count": 24,
   "metadata": {},
   "outputs": [],
   "source": [
    "def find_files(file_name):\n",
    "    pattern = re.compile(rf\"{file_name}\")\n",
    "\n",
    "    return [file for file in AUDIO_FILES if pattern.search(file)]"
   ]
  },
  {
   "cell_type": "markdown",
   "metadata": {},
   "source": [
    "## Append to DF"
   ]
  },
  {
   "cell_type": "code",
   "execution_count": 25,
   "metadata": {},
   "outputs": [],
   "source": [
    "def append_to_df(files, index):\n",
    "    if (length:=len(files)) < 3 :\n",
    "        with open('activity_log.txt', 'a') as log :\n",
    "                log.write(f\">>>> MISSING FILES (only {length})<<<<{CSV_DF.iloc[index]['Name']} at index {index}\\n\")\n",
    "    y_n_pattern = re.compile(r'(?!(no|nil))', re.IGNORECASE)\n",
    "    m_f_pattern = re.compile(r\"^male\", re.IGNORECASE)\n",
    "    pulmonic_pattern = re.compile(r\"\\d+ *(_|-)* *p\", re.IGNORECASE)\n",
    "    tricuspid_pattern = re.compile(r\"\\d+ *(_|-)* *t\", re.IGNORECASE)\n",
    "    erbs_pattern = re.compile(r\"\\d+ *(_|-)* *e\", re.IGNORECASE)\n",
    "\n",
    "    crr_index = len(result_df)\n",
    "    result_df.loc[crr_index] = [\n",
    "        CSV_DF.iloc[index]['Name'], \n",
    "        CSV_DF.iloc[index]['Age'], \n",
    "        int(bool(m_f_pattern.search(CSV_DF.iloc[index]['Sex']))),\n",
    "        int(bool(y_n_pattern.match(CSV_DF.iloc[index]['Chest Pain']))),\n",
    "        int(bool(y_n_pattern.match(CSV_DF.iloc[index]['BP']))), \n",
    "        int(bool(y_n_pattern.match(CSV_DF.iloc[index]['Palpitations']))),\n",
    "        int(bool(y_n_pattern.match(CSV_DF.iloc[index]['other_disease']))),\n",
    "        None,\n",
    "        None, \n",
    "        None,\n",
    "        ]\n",
    "    for file in files :\n",
    "        if pulmonic_pattern.search(file):\n",
    "            result_df.loc[crr_index, 'pulmonic'] = f\"{AUDIO_DIR}/{file}\"\n",
    "            AUDIO_FILES.remove(file)      \n",
    "        elif tricuspid_pattern.search(file):\n",
    "            result_df.loc[crr_index, 'tricuspid'] = f\"{AUDIO_DIR}/{file}\"\n",
    "            AUDIO_FILES.remove(file)       \n",
    "        elif erbs_pattern.search(file):\n",
    "            result_df.loc[crr_index, 'erbs'] = f\"{AUDIO_DIR}/{file}\"\n",
    "            AUDIO_FILES.remove(file)\n",
    "        else:\n",
    "            with open('activity_log.txt', 'a') as log :\n",
    "                log.write(f\">>>> NO PET FILES<<<<{CSV_DF.iloc[index]['Name']} at index {index}\\n\")\n"
   ]
  },
  {
   "cell_type": "markdown",
   "metadata": {},
   "source": [
    "## Main Function"
   ]
  },
  {
   "cell_type": "code",
   "execution_count": 27,
   "metadata": {},
   "outputs": [],
   "source": [
    "\n",
    "if __name__ == \"__main__\":\n",
    "    with open('activity_log.txt', 'w') as log :\n",
    "        log.write(\"__________LOSS__________\\n\\n\")\n",
    "    itr_count = 0\n",
    "    for item in NAMES:\n",
    "        itr_count += 1\n",
    "        # print(f\"Processing {item[1]}\")\n",
    "        file_name = find_filename(item[1])\n",
    "        if file_name:\n",
    "            # print(f\"{item[1]} ==> {file_name}\") \n",
    "            files = find_files(file_name)\n",
    "            if files :\n",
    "                append_to_df(files, item[0])\n",
    "                # print(files)\n",
    "            else:\n",
    "                # print(files)\n",
    "                with open('activity_log.txt', 'a') as log:\n",
    "                    log.write(f\"==>NO FILES FOUND<== {item[1]} at index {item[0]}\\n\")\n",
    "        else:\n",
    "            with open('activity_log.txt', 'a') as log:\n",
    "                log.write(f\"==> {item[1]} at index {item[0]}\\n\")\n",
    "\n",
    "        \n"
   ]
  },
  {
   "cell_type": "markdown",
   "metadata": {},
   "source": [
    "## Save Output"
   ]
  },
  {
   "cell_type": "code",
   "execution_count": 28,
   "metadata": {},
   "outputs": [],
   "source": [
    "\n",
    "result_df.to_csv('output.csv', index=False)   \n"
   ]
  }
 ],
 "metadata": {
  "kernelspec": {
   "display_name": "_venv",
   "language": "python",
   "name": "python3"
  },
  "language_info": {
   "codemirror_mode": {
    "name": "ipython",
    "version": 3
   },
   "file_extension": ".py",
   "mimetype": "text/x-python",
   "name": "python",
   "nbconvert_exporter": "python",
   "pygments_lexer": "ipython3",
   "version": "3.11.8"
  }
 },
 "nbformat": 4,
 "nbformat_minor": 2
}
