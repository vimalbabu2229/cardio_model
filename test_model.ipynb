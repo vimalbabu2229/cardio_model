{
 "cells": [
  {
   "cell_type": "code",
   "execution_count": 13,
   "metadata": {},
   "outputs": [],
   "source": [
    "import pickle\n",
    "import librosa\n",
    "import numpy as np\n",
    "import os\n",
    "\n",
    "SLICE_LENGTH = 5 # seconds"
   ]
  },
  {
   "cell_type": "markdown",
   "metadata": {},
   "source": [
    "## Feature Extraction"
   ]
  },
  {
   "cell_type": "code",
   "execution_count": 2,
   "metadata": {},
   "outputs": [],
   "source": [
    "def extract_features(y, sr):\n",
    "    \n",
    "    mfccs = librosa.feature.mfcc(y=y, sr=sr, n_mfcc=13)\n",
    "    spectral_centroid = librosa.feature.spectral_centroid(y=y, sr=sr)[0]\n",
    "    spectral_rolloff = librosa.feature.spectral_rolloff(y=y, sr=sr)[0]\n",
    "    zcr = librosa.feature.zero_crossing_rate(y)[0]\n",
    "    rmse = librosa.feature.rms(y=y)[0]\n",
    "    \n",
    "    features = np.hstack((np.mean(mfccs, axis=1), \n",
    "                          np.mean(spectral_centroid), \n",
    "                          np.mean(spectral_rolloff), \n",
    "                          np.mean(zcr), \n",
    "                          np.mean(rmse)))\n",
    "    return features\n"
   ]
  },
  {
   "cell_type": "markdown",
   "metadata": {},
   "source": [
    "## Main\n",
    "#### Load Model\n"
   ]
  },
  {
   "cell_type": "code",
   "execution_count": 21,
   "metadata": {},
   "outputs": [],
   "source": [
    "with open('model.pkl', 'rb') as file:\n",
    "    model = pickle.load(file)\n"
   ]
  },
  {
   "cell_type": "markdown",
   "metadata": {},
   "source": [
    "#### Predict\n",
    "Input complete file path tp this method to return the forecast as a list  \n",
    "forecast = `[chest_pain,bp,palpitations,other_disease]`"
   ]
  },
  {
   "cell_type": "code",
   "execution_count": 22,
   "metadata": {},
   "outputs": [],
   "source": [
    "\n",
    "def predict(file_path):\n",
    "    data, sr = librosa.load(file_path)\n",
    "\n",
    "    audio_slices = [data[i:(i+(sr*SLICE_LENGTH))] for i in range(0, len(data), sr*SLICE_LENGTH)]\n",
    "\n",
    "    x_audio = [extract_features(audio_slice , sr) for audio_slice in audio_slices]\n",
    "    x_data = np.array([[22, 0]] * len(x_audio))\n",
    "    x = np.concatenate((x_data, x_audio), axis=1)\n",
    "\n",
    "    preds = model.predict(x)\n",
    "\n",
    "    # Reduce predictions taking mean \n",
    "    mean_pred = np.mean(preds, axis=0) \n",
    "    forecast = list(np.round(mean_pred, 0).astype(int))\n",
    "\n",
    "    return forecast\n",
    "\n",
    "# int(any(item == 1 for item in forecast))\n"
   ]
  }
 ],
 "metadata": {
  "kernelspec": {
   "display_name": "_venv",
   "language": "python",
   "name": "python3"
  },
  "language_info": {
   "codemirror_mode": {
    "name": "ipython",
    "version": 3
   },
   "file_extension": ".py",
   "mimetype": "text/x-python",
   "name": "python",
   "nbconvert_exporter": "python",
   "pygments_lexer": "ipython3",
   "version": "3.11.8"
  }
 },
 "nbformat": 4,
 "nbformat_minor": 2
}
