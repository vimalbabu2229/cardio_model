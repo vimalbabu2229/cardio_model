{
 "cells": [
  {
   "cell_type": "markdown",
   "metadata": {},
   "source": [
    "# Preprocessing - LEVEL 2\n",
    "## Imports and Constants"
   ]
  },
  {
   "cell_type": "code",
   "execution_count": 74,
   "metadata": {},
   "outputs": [],
   "source": [
    "import os\n",
    "import librosa\n",
    "import soundfile as sf\n",
    "import pandas as pd\n",
    "import uuid\n",
    "import shutil\n",
    "\n",
    "DATA_DIR = 'heart_audio'\n",
    "BACKUP_DIR = 'backup'\n",
    "\n",
    "CSV_DF = pd.read_csv(\"output.csv\").fillna(-1)\n",
    "SLICE_LENGTH = 5 # seconds \n",
    "\n",
    "DATASET_DF = pd.DataFrame(columns=['age', 'sex', 'audio', 'chest_pain', 'bp', 'palpitations', 'other_disease'])\n",
    "\n",
    "if not os.path.exists(DATA_DIR):\n",
    "    os.mkdir(DATA_DIR)\n",
    "\n",
    "if not os.path.exists(BACKUP_DIR):\n",
    "    os.mkdir(BACKUP_DIR)"
   ]
  },
  {
   "cell_type": "code",
   "execution_count": null,
   "metadata": {},
   "outputs": [],
   "source": []
  },
  {
   "cell_type": "markdown",
   "metadata": {},
   "source": [
    "## Process Audio Files \n",
    "Slice audio files into specified lengths and store in `DATA_DIR` and return the file paths "
   ]
  },
  {
   "cell_type": "code",
   "execution_count": 75,
   "metadata": {},
   "outputs": [],
   "source": [
    "def process_audio(audio_files):\n",
    "    sliced_files = []\n",
    "    for file in audio_files:\n",
    "        data, sr = librosa.load(file)\n",
    "        for i in range(0, len(data), sr*SLICE_LENGTH):\n",
    "            slice = data[i:(i+(sr*SLICE_LENGTH))]\n",
    "            file_path = f\"{DATA_DIR}/{uuid.uuid4()}.wav\" # create unique files name \n",
    "            #write file\n",
    "            sf.write(file_path, slice, sr)\n",
    "            if os.path.exists(file_path): # ensure file has been created \n",
    "                sliced_files.append(file_path) # append to output sliced files list\n",
    "            else :\n",
    "                raise FileNotFoundError(f\"File <{file_path}> not exists\")\n",
    "        # move original file to backup to avoid redundancy \n",
    "        # shutil.move(file, BACKUP_DIR)\n",
    "    return sliced_files"
   ]
  },
  {
   "cell_type": "markdown",
   "metadata": {},
   "source": [
    "## Create DF\n",
    "create the dataframe for the dataset appending the files names from `process_audio` along with other data"
   ]
  },
  {
   "cell_type": "code",
   "execution_count": 76,
   "metadata": {},
   "outputs": [],
   "source": [
    "def append_to_df(row):\n",
    "    files = [row['pulmonic'], row['erbs'], row['tricuspid']]\n",
    "    audio_files = list(filter(lambda file: file != -1, files))\n",
    "    if len(audio_files) != 0:\n",
    "        file_paths = process_audio(audio_files)\n",
    "        for file in file_paths:\n",
    "            DATASET_DF.loc[len(DATASET_DF)] = [\n",
    "                row['age'],\n",
    "                row['sex'], \n",
    "                file, \n",
    "                row['chest_pain'], \n",
    "                row['bp'],\n",
    "                row['palpitations'],\n",
    "                row['other_disease']\n",
    "            ]"
   ]
  },
  {
   "cell_type": "markdown",
   "metadata": {},
   "source": [
    "## Main"
   ]
  },
  {
   "cell_type": "code",
   "execution_count": 77,
   "metadata": {},
   "outputs": [
    {
     "name": "stdout",
     "output_type": "stream",
     "text": [
      "<<<<<< Dataset Saved Successfully >>>>> \n"
     ]
    }
   ],
   "source": [
    "if __name__ == \"__main__\":\n",
    "    for row in CSV_DF.iterrows():\n",
    "        append_to_df((row[1])) # row[0] is index and row[1] gives the actual data as series object \n",
    "    DATASET_DF.to_csv('heart_dataset.csv', index=False)\n",
    "    print(\"<<<<<< Dataset Saved Successfully >>>>> \")\n"
   ]
  }
 ],
 "metadata": {
  "kernelspec": {
   "display_name": "_venv",
   "language": "python",
   "name": "python3"
  },
  "language_info": {
   "codemirror_mode": {
    "name": "ipython",
    "version": 3
   },
   "file_extension": ".py",
   "mimetype": "text/x-python",
   "name": "python",
   "nbconvert_exporter": "python",
   "pygments_lexer": "ipython3",
   "version": "3.11.8"
  }
 },
 "nbformat": 4,
 "nbformat_minor": 2
}
